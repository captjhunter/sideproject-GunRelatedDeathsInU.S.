{
 "cells": [
  {
   "cell_type": "code",
   "execution_count": 9,
   "metadata": {
    "collapsed": true
   },
   "outputs": [],
   "source": [
    "#open and read csv\n",
    "import csv\n",
    "f = open('guns.csv', 'r')\n",
    "csvreader = csv.reader(f)\n",
    "csvdata = list(csvreader)"
   ]
  },
  {
   "cell_type": "code",
   "execution_count": 10,
   "metadata": {
    "collapsed": false
   },
   "outputs": [
    {
     "name": "stdout",
     "output_type": "stream",
     "text": [
      "[['', 'year', 'month', 'intent', 'police', 'sex', 'age', 'race', 'hispanic', 'place', 'education'], ['1', '2012', '01', 'Suicide', '0', 'M', '34', 'Asian/Pacific Islander', '100', 'Home', '4'], ['2', '2012', '01', 'Suicide', '0', 'F', '21', 'White', '100', 'Street', '3'], ['3', '2012', '01', 'Suicide', '0', 'M', '60', 'White', '100', 'Other specified', '4'], ['4', '2012', '02', 'Suicide', '0', 'M', '64', 'White', '100', 'Home', '4']]\n"
     ]
    }
   ],
   "source": [
    "print(csvdata[:5])"
   ]
  },
  {
   "cell_type": "code",
   "execution_count": 11,
   "metadata": {
    "collapsed": false
   },
   "outputs": [
    {
     "name": "stdout",
     "output_type": "stream",
     "text": [
      "[['', 'year', 'month', 'intent', 'police', 'sex', 'age', 'race', 'hispanic', 'place', 'education']]\n",
      "[['1', '2012', '01', 'Suicide', '0', 'M', '34', 'Asian/Pacific Islander', '100', 'Home', '4'], ['2', '2012', '01', 'Suicide', '0', 'F', '21', 'White', '100', 'Street', '3'], ['3', '2012', '01', 'Suicide', '0', 'M', '60', 'White', '100', 'Other specified', '4'], ['4', '2012', '02', 'Suicide', '0', 'M', '64', 'White', '100', 'Home', '4'], ['5', '2012', '02', 'Suicide', '0', 'M', '31', 'White', '100', 'Other specified', '2']]\n"
     ]
    }
   ],
   "source": [
    "#remove header row\n",
    "headers = csvdata[:1]\n",
    "csvdata = csvdata[1:]\n",
    "print(headers)\n",
    "print(csvdata[:5])"
   ]
  },
  {
   "cell_type": "code",
   "execution_count": 12,
   "metadata": {
    "collapsed": false
   },
   "outputs": [
    {
     "data": {
      "text/plain": [
       "{'2012': 33563, '2013': 33636, '2014': 33599}"
      ]
     },
     "execution_count": 12,
     "metadata": {},
     "output_type": "execute_result"
    }
   ],
   "source": [
    "#extract year column using list comprehension\n",
    "years = [row[1] for row in csvdata]\n",
    "\n",
    "year_counts = {}\n",
    "\n",
    "#loop to check year counts\n",
    "for year in years:\n",
    "    if year not in year_counts:\n",
    "        year_counts[year] = 1\n",
    "    else:\n",
    "        year_counts[year] += 1\n",
    "\n",
    "year_counts\n",
    "        "
   ]
  },
  {
   "cell_type": "code",
   "execution_count": 15,
   "metadata": {
    "collapsed": false
   },
   "outputs": [
    {
     "data": {
      "text/plain": [
       "[datetime.datetime(2012, 1, 1, 0, 0),\n",
       " datetime.datetime(2012, 1, 1, 0, 0),\n",
       " datetime.datetime(2012, 1, 1, 0, 0),\n",
       " datetime.datetime(2012, 2, 1, 0, 0),\n",
       " datetime.datetime(2012, 2, 1, 0, 0)]"
      ]
     },
     "execution_count": 15,
     "metadata": {},
     "output_type": "execute_result"
    }
   ],
   "source": [
    "#import datetime and use list comprehension to create datetime object for rows\n",
    "\n",
    "import datetime\n",
    "\n",
    "dates = [datetime.datetime(year=int(row[1]), month=int(row[2]), day=1) for row in csvdata]\n",
    "dates[:5]"
   ]
  },
  {
   "cell_type": "code",
   "execution_count": 16,
   "metadata": {
    "collapsed": false
   },
   "outputs": [
    {
     "data": {
      "text/plain": [
       "{datetime.datetime(2012, 1, 1, 0, 0): 2757,\n",
       " datetime.datetime(2012, 2, 1, 0, 0): 2356,\n",
       " datetime.datetime(2012, 3, 1, 0, 0): 2742,\n",
       " datetime.datetime(2012, 4, 1, 0, 0): 2794,\n",
       " datetime.datetime(2012, 5, 1, 0, 0): 2998,\n",
       " datetime.datetime(2012, 6, 1, 0, 0): 2825,\n",
       " datetime.datetime(2012, 7, 1, 0, 0): 3025,\n",
       " datetime.datetime(2012, 8, 1, 0, 0): 2953,\n",
       " datetime.datetime(2012, 9, 1, 0, 0): 2851,\n",
       " datetime.datetime(2012, 10, 1, 0, 0): 2732,\n",
       " datetime.datetime(2012, 11, 1, 0, 0): 2728,\n",
       " datetime.datetime(2012, 12, 1, 0, 0): 2790,\n",
       " datetime.datetime(2013, 1, 1, 0, 0): 2863,\n",
       " datetime.datetime(2013, 2, 1, 0, 0): 2374,\n",
       " datetime.datetime(2013, 3, 1, 0, 0): 2861,\n",
       " datetime.datetime(2013, 4, 1, 0, 0): 2797,\n",
       " datetime.datetime(2013, 5, 1, 0, 0): 2805,\n",
       " datetime.datetime(2013, 6, 1, 0, 0): 2919,\n",
       " datetime.datetime(2013, 7, 1, 0, 0): 3078,\n",
       " datetime.datetime(2013, 8, 1, 0, 0): 2858,\n",
       " datetime.datetime(2013, 9, 1, 0, 0): 2741,\n",
       " datetime.datetime(2013, 10, 1, 0, 0): 2807,\n",
       " datetime.datetime(2013, 11, 1, 0, 0): 2757,\n",
       " datetime.datetime(2013, 12, 1, 0, 0): 2764,\n",
       " datetime.datetime(2014, 1, 1, 0, 0): 2650,\n",
       " datetime.datetime(2014, 2, 1, 0, 0): 2360,\n",
       " datetime.datetime(2014, 3, 1, 0, 0): 2683,\n",
       " datetime.datetime(2014, 4, 1, 0, 0): 2861,\n",
       " datetime.datetime(2014, 5, 1, 0, 0): 2863,\n",
       " datetime.datetime(2014, 6, 1, 0, 0): 2930,\n",
       " datetime.datetime(2014, 7, 1, 0, 0): 2883,\n",
       " datetime.datetime(2014, 8, 1, 0, 0): 2969,\n",
       " datetime.datetime(2014, 9, 1, 0, 0): 2913,\n",
       " datetime.datetime(2014, 10, 1, 0, 0): 2864,\n",
       " datetime.datetime(2014, 11, 1, 0, 0): 2755,\n",
       " datetime.datetime(2014, 12, 1, 0, 0): 2856}"
      ]
     },
     "execution_count": 16,
     "metadata": {},
     "output_type": "execute_result"
    }
   ],
   "source": [
    "#use similar logic to 'year_counts'\n",
    "\n",
    "date_counts = {}\n",
    "for date in dates:\n",
    "    if date not in date_counts:\n",
    "        date_counts[date] = 0\n",
    "    else:\n",
    "        date_counts[date] += 1\n",
    "\n",
    "date_counts"
   ]
  },
  {
   "cell_type": "code",
   "execution_count": 18,
   "metadata": {
    "collapsed": false
   },
   "outputs": [
    {
     "data": {
      "text/plain": [
       "{'F': 14449, 'M': 86349}"
      ]
     },
     "execution_count": 18,
     "metadata": {},
     "output_type": "execute_result"
    }
   ],
   "source": [
    "#gun deaths by sex\n",
    "\n",
    "sexes = [row[5] for row in csvdata]\n",
    "\n",
    "sex_counts = {}\n",
    "for sex in sexes:\n",
    "    if sex not in sex_counts:\n",
    "        sex_counts[sex] = 0\n",
    "    sex_counts[sex] += 1\n",
    "    \n",
    "sex_counts"
   ]
  },
  {
   "cell_type": "code",
   "execution_count": 19,
   "metadata": {
    "collapsed": false
   },
   "outputs": [
    {
     "data": {
      "text/plain": [
       "{'Asian/Pacific Islander': 1326,\n",
       " 'Black': 23296,\n",
       " 'Hispanic': 9022,\n",
       " 'Native American/Native Alaskan': 917,\n",
       " 'White': 66237}"
      ]
     },
     "execution_count": 19,
     "metadata": {},
     "output_type": "execute_result"
    }
   ],
   "source": [
    "#gun deaths by race\n",
    "\n",
    "races = [row[7] for row in csvdata]\n",
    "\n",
    "race_counts = {}\n",
    "for race in races:\n",
    "    if race not in race_counts:\n",
    "        race_counts[race] = 0\n",
    "    race_counts[race] += 1\n",
    "    \n",
    "race_counts"
   ]
  },
  {
   "cell_type": "markdown",
   "metadata": {},
   "source": [
    "Findings[Markdown]:\n",
    "\n",
    "Gun deaths in the U.S. seem disportionate in regards to men and women. This also seems to disproportionately affect minorities. \n",
    "\n",
    "However, something worth note is that there seems to be a small correlation between an uptick with gun deaths in summer and a decline in winter. \n",
    "\n",
    "If working with this data, it would be helpful to filter by this if necessary."
   ]
  },
  {
   "cell_type": "code",
   "execution_count": 20,
   "metadata": {
    "collapsed": false
   },
   "outputs": [
    {
     "data": {
      "text/plain": [
       "[['Id',\n",
       "  'Year',\n",
       "  'Id',\n",
       "  'Sex',\n",
       "  'Id',\n",
       "  'Hispanic Origin',\n",
       "  'Id',\n",
       "  'Id2',\n",
       "  'Geography',\n",
       "  'Total',\n",
       "  'Race Alone - White',\n",
       "  'Race Alone - Hispanic',\n",
       "  'Race Alone - Black or African American',\n",
       "  'Race Alone - American Indian and Alaska Native',\n",
       "  'Race Alone - Asian',\n",
       "  'Race Alone - Native Hawaiian and Other Pacific Islander',\n",
       "  'Two or More Races'],\n",
       " ['cen42010',\n",
       "  'April 1, 2010 Census',\n",
       "  'totsex',\n",
       "  'Both Sexes',\n",
       "  'tothisp',\n",
       "  'Total',\n",
       "  '0100000US',\n",
       "  '',\n",
       "  'United States',\n",
       "  '308745538',\n",
       "  '197318956',\n",
       "  '44618105',\n",
       "  '40250635',\n",
       "  '3739506',\n",
       "  '15159516',\n",
       "  '674625',\n",
       "  '6984195']]"
      ]
     },
     "execution_count": 20,
     "metadata": {},
     "output_type": "execute_result"
    }
   ],
   "source": [
    "#read in a second dataset\n",
    "import csv\n",
    "\n",
    "f = open('census.csv', 'r')\n",
    "reader = csv.reader(f)\n",
    "census = list(reader)\n",
    "    \n",
    "census"
   ]
  },
  {
   "cell_type": "code",
   "execution_count": 21,
   "metadata": {
    "collapsed": false
   },
   "outputs": [
    {
     "data": {
      "text/plain": [
       "{'Asian/Pacific Islander': 8.374309664161762,\n",
       " 'Black': 57.8773477735196,\n",
       " 'Hispanic': 20.220491210910907,\n",
       " 'Native American/Native Alaskan': 24.521955573811088,\n",
       " 'White': 33.56849303419181}"
      ]
     },
     "execution_count": 21,
     "metadata": {},
     "output_type": "execute_result"
    }
   ],
   "source": [
    "#map key from race_counts to population count of census\n",
    "\n",
    "mapping = {\n",
    "    'Asian/Pacific Islander': 15159516 + 674625,\n",
    "    'Native American/Native Alaskan': 3739506,\n",
    "    'Black': 40250635,\n",
    "    'Hispanic': 44618105,\n",
    "    'White': 197318956\n",
    "}\n",
    "\n",
    "#gun deaths per 100000 people in racial category\n",
    "\n",
    "race_per_hundredk = {}\n",
    "for k,v in race_counts.items():\n",
    "    race_per_hundredk[k] = (v / mapping[k]) * 100000\n",
    "\n",
    "race_per_hundredk"
   ]
  },
  {
   "cell_type": "code",
   "execution_count": 23,
   "metadata": {
    "collapsed": false
   },
   "outputs": [
    {
     "data": {
      "text/plain": [
       "{'Asian/Pacific Islander': 3.530346230970155,\n",
       " 'Black': 48.471284987180944,\n",
       " 'Hispanic': 12.627161104219914,\n",
       " 'Native American/Native Alaskan': 8.717729026240365,\n",
       " 'White': 4.6356417981453335}"
      ]
     },
     "execution_count": 23,
     "metadata": {},
     "output_type": "execute_result"
    }
   ],
   "source": [
    "#extract intent\n",
    "intents = [row[3] for row in csvdata]\n",
    "\n",
    "#extract race column/create dictionary/use enumerate function\n",
    "\n",
    "homicide_race_counts = {}\n",
    "for i,race in enumerate(races):\n",
    "    if race not in homicide_race_counts:\n",
    "        homicide_race_counts[race] = 0\n",
    "    if intents[i] == \"Homicide\":\n",
    "        homicide_race_counts[race] += 1\n",
    "\n",
    "race_per_hundredk = {}\n",
    "for k,v in homicide_race_counts.items():\n",
    "    race_per_hundredk[k] = (v / mapping[k]) * 100000\n",
    "\n",
    "race_per_hundredk\n",
    "\n"
   ]
  },
  {
   "cell_type": "markdown",
   "metadata": {},
   "source": [
    "Findings:\n",
    "\n",
    "According to this data, gun deaths disportionately affect Black and Hispanic races.\n",
    "\n",
    "Would could investigated further is the link between the months and the gun deaths, gun deaths by location, and gun deaths by other intents."
   ]
  },
  {
   "cell_type": "code",
   "execution_count": null,
   "metadata": {
    "collapsed": true
   },
   "outputs": [],
   "source": []
  }
 ],
 "metadata": {
  "kernelspec": {
   "display_name": "Python 3",
   "language": "python",
   "name": "python3"
  },
  "language_info": {
   "codemirror_mode": {
    "name": "ipython",
    "version": 3
   },
   "file_extension": ".py",
   "mimetype": "text/x-python",
   "name": "python",
   "nbconvert_exporter": "python",
   "pygments_lexer": "ipython3",
   "version": "3.4.3"
  }
 },
 "nbformat": 4,
 "nbformat_minor": 0
}
